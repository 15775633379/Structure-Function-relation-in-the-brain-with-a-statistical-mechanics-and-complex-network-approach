{
  "cells": [
    {
      "cell_type": "code",
      "execution_count": null,
      "metadata": {
        "id": "1E0jf5edo8GO"
      },
      "outputs": [],
      "source": [
        "#%% En el caso de Google Colaboratory, es necesario instalar las librerías necesarias para todos los análisis que se muestran adelante"
      ]
    },
    {
      "cell_type": "code",
      "execution_count": null,
      "metadata": {
        "id": "TLYClUFFoWLW"
      },
      "outputs": [],
      "source": [
        "pip install dipy"
      ]
    },
    {
      "cell_type": "code",
      "execution_count": null,
      "metadata": {
        "id": "qgfq8CQxot1u"
      },
      "outputs": [],
      "source": [
        "pip install nilearn"
      ]
    },
    {
      "cell_type": "code",
      "execution_count": null,
      "metadata": {
        "colab": {
          "base_uri": "https://localhost:8080/"
        },
        "id": "SR_4wzQeSFA3",
        "outputId": "40ed61d9-41d6-47d5-92e6-c416dd35c796"
      },
      "outputs": [
        {
          "output_type": "stream",
          "name": "stdout",
          "text": [
            "Mounted at /gdrive\n",
            "/gdrive\n"
          ]
        }
      ],
      "source": [
        "#%% Conectar con google drive, donde se encuentran los datos HCP1200 requeridos\n",
        "from google.colab import drive\n",
        "drive.mount('/gdrive')\n",
        "%cd /gdrive"
      ]
    },
    {
      "cell_type": "code",
      "execution_count": null,
      "metadata": {
        "id": "VtibIhs4xTe5"
      },
      "outputs": [],
      "source": [
        "#%% Se importa el archivo con las funciones definidas para la tractografia y extraer la conectividad estructural\n",
        "\n",
        "execfile('/gdrive/Shareddrives/GENSyR /CNF (Complejidad y NeuroFísica)/Carpeta de trabajo/Tesis Juan y Diego /Resultados FUNCIONES Tesis/Construcción redes cerebrales/construcción_conectividad_estructural.py')"
      ]
    },
    {
      "cell_type": "code",
      "execution_count": null,
      "metadata": {
        "id": "dQhZPzcHSKTb"
      },
      "outputs": [],
      "source": [
        "#%% Montar librerías base para todo el proceso\n",
        "\n",
        "import os\n",
        "import subprocess\n",
        "import numpy as np\n",
        "import nibabel as nib\n",
        "import matplotlib.pyplot as plt\n",
        "from os.path import expanduser, join\n",
        "from dipy.io.streamline import save_tractogram"
      ]
    },
    {
      "cell_type": "code",
      "execution_count": null,
      "metadata": {
        "id": "_3QYVreBSoBM"
      },
      "outputs": [],
      "source": [
        "def tractografia_multiples_sujetos(home, patient):\n",
        "\n",
        "  # Nombre de rutas necesarias para generar el tractograma\n",
        "  dhcp = join(home, patient)\n",
        "  dest = join(dhcp, 'Estructural')\n",
        "  fraw = join(dest, 'data.nii.gz')\n",
        "  fbval = join(dest, 'bvals')\n",
        "  fbvec = join(dest, 'bvecs')\n",
        "  fmask = join(dest, 'brainmask_fs.nii.gz')\n",
        "  ft1 = join(dest, 'T1w_acpc_dc_restore_brain.nii.gz')\n",
        "\n",
        "  # Nombres de la ruta donde se almacenara el tractograma \n",
        "  nametracto = 'trac_det_EuDX_pft_' + patient + '.trk'\n",
        "  ftrackpft = join(dest, nametracto)\n",
        "\n",
        "  # Se generan las streamlines y se almacenan los datos-mascaras resliced y el .trk del tractograma\n",
        "  pft_sft = tractograma_determinista_PFT(fraw, fbval, fbvec, fmask, ft1)\n",
        "  save_tractogram(pft_sft, ftrackpft)\n",
        "  del pft_sft"
      ]
    },
    {
      "cell_type": "code",
      "execution_count": null,
      "metadata": {
        "id": "ooS9XHAOMkC0"
      },
      "outputs": [],
      "source": [
        "# Ruta donde se tienen las listas de sujetos, separadas por poblaciones para extraer la tractografia\n",
        "fdatapoblaciones = '/gdrive/Shareddrives/GENSyR /CNF (Complejidad y NeuroFísica)/Carpeta de trabajo/Tesis Juan y Diego /Datos Poblaciones'\n",
        "\n",
        "# Se tienen los filtros de tareas 'WM_Task_Acc' o 'Dexterity_Unadj'\n",
        "tarea = 'WM_Task_Acc'\n",
        "# Para las poblaciones de sujetos masculinas 'M' y femeninas 'F'\n",
        "sexo = 'M'\n",
        "# Puntuacion de la poblacion: alto '+' o bajo '-'\n",
        "puntuacion = '-'\n",
        "\n",
        "# Se carga la lista de sujetos de la poblacion al vector sujetos\n",
        "name = tarea + '_' + puntuacion + '_' + sexo + '_sujetos.npy'\n",
        "fname = join(fdatapoblaciones, name)\n",
        "subjects_total = np.load(fname)"
      ]
    },
    {
      "cell_type": "code",
      "execution_count": null,
      "metadata": {
        "colab": {
          "base_uri": "https://localhost:8080/"
        },
        "id": "bCujoZYj7PpD",
        "outputId": "1be52298-99aa-4b70-9065-7267459ef862"
      },
      "outputs": [
        {
          "output_type": "stream",
          "name": "stdout",
          "text": [
            "Tractografía del sujeto: 857263\n",
            ">> Iteration: 0\n",
            ">> Iteration: 1\n",
            ">> Iteration: 2\n",
            ">> Iteration: 3\n",
            ">> Iteration: 4\n",
            ">> Iteration: 5\n",
            ">> Iteration: 6\n",
            ">> Iteration: 7\n",
            ">> Iteration: 8\n",
            ">> Iteration: 9\n",
            ">> Iteration: 10\n",
            ">> Iteration: 11\n",
            ">> Iteration: 12\n",
            ">> Iteration: 13\n",
            ">> Iteration: 14\n",
            ">> Iteration: 15\n",
            ">> Iteration: 16\n",
            ">> Iteration: 17\n",
            ">> Iteration: 18\n",
            ">> Iteration: 19\n",
            ">> Iteration: 20\n",
            ">> Iteration: 21\n",
            ">> Iteration: 22\n",
            "El tractograma del sujeto: 857263 está listo.\n",
            "Tractografía del sujeto: 217126\n",
            ">> Iteration: 0\n",
            ">> Iteration: 1\n",
            ">> Iteration: 2\n",
            ">> Iteration: 3\n",
            ">> Iteration: 4\n",
            ">> Iteration: 5\n",
            ">> Iteration: 6\n",
            ">> Iteration: 7\n",
            ">> Iteration: 8\n",
            ">> Iteration: 9\n",
            ">> Iteration: 10\n",
            ">> Iteration: 11\n",
            ">> Iteration: 12\n",
            ">> Iteration: 13\n",
            ">> Iteration: 14\n",
            ">> Iteration: 15\n",
            ">> Iteration: 16\n",
            ">> Iteration: 17\n",
            ">> Iteration: 18\n",
            ">> Iteration: 19\n",
            ">> Iteration: 20\n",
            ">> Iteration: 21\n",
            ">> Iteration: 22\n",
            ">> Iteration: 23\n",
            ">> Iteration: 24\n",
            ">> Iteration: 25\n",
            ">> Iteration: 26\n",
            "El tractograma del sujeto: 217126 está listo.\n",
            "Tractografía del sujeto: 175035\n",
            ">> Iteration: 0\n",
            ">> Iteration: 1\n",
            ">> Iteration: 2\n",
            ">> Iteration: 3\n",
            ">> Iteration: 4\n",
            ">> Iteration: 5\n",
            ">> Iteration: 6\n",
            ">> Iteration: 7\n",
            ">> Iteration: 8\n",
            ">> Iteration: 9\n",
            ">> Iteration: 10\n",
            ">> Iteration: 11\n",
            ">> Iteration: 12\n",
            ">> Iteration: 13\n",
            ">> Iteration: 14\n",
            ">> Iteration: 15\n",
            ">> Iteration: 16\n",
            ">> Iteration: 17\n",
            ">> Iteration: 18\n",
            ">> Iteration: 19\n",
            ">> Iteration: 20\n",
            ">> Iteration: 21\n",
            ">> Iteration: 22\n",
            "El tractograma del sujeto: 175035 está listo.\n",
            "Tractografía del sujeto: 116524\n",
            ">> Iteration: 0\n",
            ">> Iteration: 1\n",
            ">> Iteration: 2\n",
            ">> Iteration: 3\n",
            ">> Iteration: 4\n",
            ">> Iteration: 5\n",
            ">> Iteration: 6\n",
            ">> Iteration: 7\n",
            ">> Iteration: 8\n",
            ">> Iteration: 9\n",
            ">> Iteration: 10\n",
            ">> Iteration: 11\n",
            ">> Iteration: 12\n",
            ">> Iteration: 13\n",
            ">> Iteration: 14\n",
            ">> Iteration: 15\n",
            ">> Iteration: 16\n",
            ">> Iteration: 17\n",
            ">> Iteration: 18\n",
            ">> Iteration: 19\n",
            ">> Iteration: 20\n",
            ">> Iteration: 21\n",
            ">> Iteration: 22\n",
            ">> Iteration: 23\n",
            ">> Iteration: 24\n",
            ">> Iteration: 25\n",
            ">> Iteration: 26\n",
            ">> Iteration: 27\n",
            ">> Iteration: 28\n",
            ">> Iteration: 29\n",
            ">> Iteration: 30\n",
            ">> Iteration: 31\n",
            ">> Iteration: 32\n",
            ">> Iteration: 33\n",
            ">> Iteration: 34\n",
            ">> Iteration: 35\n",
            ">> Iteration: 36\n",
            ">> Iteration: 37\n",
            ">> Iteration: 38\n",
            ">> Iteration: 39\n",
            ">> Iteration: 40\n",
            ">> Iteration: 41\n",
            ">> Iteration: 42\n",
            ">> Iteration: 43\n",
            ">> Iteration: 44\n",
            ">> Iteration: 45\n",
            ">> Iteration: 46\n",
            ">> Iteration: 47\n",
            ">> Iteration: 48\n",
            ">> Iteration: 49\n",
            ">> Iteration: 50\n",
            ">> Iteration: 51\n",
            ">> Iteration: 52\n",
            ">> Iteration: 53\n",
            ">> Iteration: 54\n",
            ">> Iteration: 55\n",
            ">> Iteration: 56\n",
            ">> Iteration: 57\n",
            ">> Iteration: 58\n",
            ">> Iteration: 59\n",
            ">> Iteration: 60\n",
            ">> Iteration: 61\n",
            ">> Iteration: 62\n",
            ">> Iteration: 63\n",
            ">> Iteration: 64\n",
            ">> Iteration: 65\n",
            ">> Iteration: 66\n",
            ">> Iteration: 67\n",
            ">> Iteration: 68\n",
            ">> Iteration: 69\n",
            ">> Iteration: 70\n",
            ">> Iteration: 71\n",
            ">> Iteration: 72\n",
            ">> Iteration: 73\n",
            ">> Iteration: 74\n",
            ">> Iteration: 75\n",
            ">> Iteration: 76\n",
            ">> Iteration: 77\n",
            ">> Iteration: 78\n",
            ">> Iteration: 79\n",
            ">> Iteration: 80\n",
            ">> Iteration: 81\n",
            ">> Iteration: 82\n",
            ">> Iteration: 83\n",
            ">> Iteration: 84\n",
            ">> Iteration: 85\n",
            ">> Iteration: 86\n",
            ">> Iteration: 87\n",
            ">> Iteration: 88\n",
            ">> Iteration: 89\n",
            ">> Iteration: 90\n",
            ">> Iteration: 91\n",
            ">> Iteration: 92\n",
            ">> Iteration: 93\n",
            ">> Iteration: 94\n",
            ">> Iteration: 95\n",
            ">> Iteration: 96\n",
            ">> Iteration: 97\n",
            ">> Iteration: 98\n",
            ">> Iteration: 99\n",
            "El tractograma del sujeto: 116524 está listo.\n",
            "Tractografía del sujeto: 512835\n",
            ">> Iteration: 0\n",
            ">> Iteration: 1\n",
            ">> Iteration: 2\n",
            ">> Iteration: 3\n",
            ">> Iteration: 4\n",
            ">> Iteration: 5\n",
            ">> Iteration: 6\n",
            ">> Iteration: 7\n",
            ">> Iteration: 8\n",
            ">> Iteration: 9\n",
            ">> Iteration: 10\n",
            ">> Iteration: 11\n",
            ">> Iteration: 12\n",
            ">> Iteration: 13\n",
            ">> Iteration: 14\n",
            ">> Iteration: 15\n",
            ">> Iteration: 16\n",
            ">> Iteration: 17\n",
            "El tractograma del sujeto: 512835 está listo.\n"
          ]
        }
      ],
      "source": [
        "#%% Leer y cargar las rutas de los datos del HCP\n",
        "home = join(fdatapoblaciones, sexo + puntuacion + tarea)\n",
        "\n",
        "subjects1 = subjects_total[20:25]\n",
        "\n",
        "for patient in subjects1:\n",
        "  print('Tractografía del sujeto:', patient)\n",
        "  tractografia_multiples_sujetos(home, patient)\n",
        "  print('El tractograma del sujeto:', patient, 'está listo.')"
      ]
    },
    {
      "cell_type": "code",
      "execution_count": null,
      "metadata": {
        "id": "hbS87AfAvsrG"
      },
      "outputs": [],
      "source": [
        "#subjects1 = subjects_total[0:5]\n",
        "#subjects2 = subjects_total[5:10]\n",
        "#subjects3 = subjects_total[10:15]\n",
        "#subjects4 = subjects_total[15:20]\n",
        "#subjects5 = subjects_total[20:25]"
      ]
    }
  ],
  "metadata": {
    "colab": {
      "collapsed_sections": [],
      "provenance": []
    },
    "kernelspec": {
      "display_name": "Python 3",
      "name": "python3"
    },
    "language_info": {
      "name": "python"
    }
  },
  "nbformat": 4,
  "nbformat_minor": 0
}