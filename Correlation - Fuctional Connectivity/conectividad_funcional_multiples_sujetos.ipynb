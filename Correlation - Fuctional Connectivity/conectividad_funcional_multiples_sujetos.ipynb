{
  "nbformat": 4,
  "nbformat_minor": 0,
  "metadata": {
    "colab": {
      "provenance": []
    },
    "kernelspec": {
      "name": "python3",
      "display_name": "Python 3"
    },
    "language_info": {
      "name": "python"
    }
  },
  "cells": [
    {
      "cell_type": "code",
      "source": [
        "pip install pyinform"
      ],
      "metadata": {
        "id": "8YgAberk3gm4"
      },
      "execution_count": null,
      "outputs": []
    },
    {
      "cell_type": "code",
      "source": [
        "pip install nilearn"
      ],
      "metadata": {
        "id": "9AapSt6O3rSW"
      },
      "execution_count": null,
      "outputs": []
    },
    {
      "cell_type": "code",
      "execution_count": null,
      "metadata": {
        "id": "G2Yw1UdAii9r"
      },
      "outputs": [],
      "source": [
        "import pyinform as pyin\n",
        "from nilearn.input_data import NiftiLabelsMasker\n",
        "from nilearn import connectome\n",
        "from nilearn.input_data import NiftiLabelsMasker\n",
        "\n",
        "def conectividad_mutual(parcelacion, datos, low_pass, high_pass, confound= \"none\"):\n",
        "  harvard_masker = NiftiLabelsMasker(labels_img = parcelacion, standardize = True, detrend=True,low_pass = low_pass, high_pass = high_pass,t_r=2)\n",
        "  if confound == \"none\":\n",
        "    fmri_matrix = harvard_masker.fit_transform(datos)\n",
        "  else:\n",
        "    fmri_matrix = harvard_masker.fit_transform(datos,confounds = confound)\n",
        "  matriz = np.absolute(fmri_matrix.transpose())\n",
        "  conectividad = np.zeros((len(matriz),len(matriz)))\n",
        "  for i in range(len(matriz)):\n",
        "    for j in range(i+1,len(matriz)):\n",
        "      conectividad[i][j] = pyin.mutual_info(matriz[i],matriz[j])\n",
        "  np.fill_diagonal(conectividad,0)\n",
        "  return conectividad"
      ]
    },
    {
      "cell_type": "code",
      "source": [
        "from google.colab import drive\n",
        "drive.mount('/gdrive')\n",
        "%cd /gdrive"
      ],
      "metadata": {
        "id": "vvo-cCB93UT6"
      },
      "execution_count": null,
      "outputs": []
    },
    {
      "cell_type": "code",
      "source": [
        "cd \"G:/Shared drives/GENSyR/CNF (Complejidad y NeuroFísica)/Carpeta de trabajo/Tesis Juan y Diego/Datos Poblaciones/\""
      ],
      "metadata": {
        "id": "ddoy5fDY38Dp"
      },
      "execution_count": null,
      "outputs": []
    },
    {
      "cell_type": "code",
      "source": [
        "def mutual_entropy(parcelacion, datos, confound, low_pass = 0.08, high_pass = 0.009):\n",
        "  harvard_masker = NiftiLabelsMasker(labels_img = parcelacion, standardize = True, detrend=True,low_pass = low_pass, high_pass = high_pass,t_r=2)\n",
        "  fmri_matrix = harvard_masker.fit_transform(datos,confounds = confound)\n",
        "  matriz = fmri_matrix.transpose()\n",
        "  matriz = matriz + np.min(matriz)\n",
        "  conectividad = np.zeros((len(matriz),len(matriz)))\n",
        "  for i in range(len(matriz)):\n",
        "    for j in range(i+1,len(matriz)):\n",
        "      conectividad[i][j] = pyin.mutual_info(matriz[i],matriz[j])\n",
        "  np.fill_diagonal(conectividad,0)\n",
        "  return conectividad\n",
        "\n",
        "\n",
        "\n",
        "tarea = \"Dexterity_Unadj\"\n",
        "parcelacion = \"AAL\"\n",
        "sujetos = [\"108525\"]\n",
        "sexo = \"M\"\n",
        "poblacion = \"+\"\n",
        "\n",
        "home = \"G:/Shared drives/GENSyR/CNF (Complejidad y NeuroFísica)/Carpeta de trabajo/\"\n",
        "home_datos = \"D:/Users/juanc/Datos HC/\" + sexo + poblacion + tarea + \"/\"\n",
        "home_resultados = home + \"Tesis Juan y Diego/Datos Poblaciones/\" + tarea\n",
        "parcelacion_mascara = nilearn.image.load_img(home + \"Datos Proyecto Conectoma Humano (HCP)/Parcelas/\" + parcelacion + \"/\" + parcelacion + \"_space-MNI152NLin6_res-1x1x1.nii.gz\")\n",
        "\n",
        "\n",
        "def conectividades_mutuas(sujetos,parcelacion, confound= \"none\", low_pass = 0.08, high_pass = 0.009):\n",
        "  tareas = [\"REST1\",\"MOTOR\",\"EMOTION\",\"SOCIAL\",\"GAMBLING\",\"LANGUAGE\",\"WM\",\"RELATIONAL\"]\n",
        "  for sujeto in sujetos:\n",
        "    for tarea in tareas:\n",
        "      base_funcional = home_datos + sujeto + \"/Funcional/\" + tarea\n",
        "      base_resultados = home_datos + sujeto \n",
        "\n",
        "      if tarea == \"REST1\": \n",
        "        niigz = nilearn.image.load_img( base_funcional + \"/rfMRI_\" + tarea + \"_LR.nii.gz\")\n",
        "        confound = base_funcional + \"/Movement_Regressors.txt\"\n",
        "\n",
        "      if tarea != \"REST1\":\n",
        "        niigz = nilearn.image.load_img( base_funcional + \"/tfMRI_\" + tarea + \"_LR.nii.gz\")\n",
        "        confound = base_funcional + \"/Movement_Regressors.txt\"\n",
        "\n",
        "      conectividad = mutual_entropy(parcelacion, niigz,confound)\n",
        "      conectividad = conectividad + conectividad.transpose()\n",
        "      np.save(base_resultados + \"/\" tarea + \"_ME_\" + sujeto + \".npy\", conectividad)\n",
        "      print(\"lista la conectividad de\" + tarea + \"para el sujeto\" + sujeto)\n",
        "\n"
      ],
      "metadata": {
        "id": "ftLvv4X44U4a"
      },
      "execution_count": null,
      "outputs": []
    }
  ]
}