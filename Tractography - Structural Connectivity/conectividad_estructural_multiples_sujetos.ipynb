{
  "nbformat": 4,
  "nbformat_minor": 0,
  "metadata": {
    "colab": {
      "provenance": [],
      "collapsed_sections": []
    },
    "kernelspec": {
      "name": "python3",
      "display_name": "Python 3"
    },
    "language_info": {
      "name": "python"
    }
  },
  "cells": [
    {
      "cell_type": "code",
      "source": [
        "#%% En el caso de Google Colaboratory, es necesario instalar las librerías necesarias para todos los análisis que se muestran adelante"
      ],
      "metadata": {
        "id": "1E0jf5edo8GO"
      },
      "execution_count": null,
      "outputs": []
    },
    {
      "cell_type": "code",
      "source": [
        "pip install dipy"
      ],
      "metadata": {
        "id": "TLYClUFFoWLW"
      },
      "execution_count": null,
      "outputs": []
    },
    {
      "cell_type": "code",
      "source": [
        "pip install nilearn"
      ],
      "metadata": {
        "id": "qgfq8CQxot1u"
      },
      "execution_count": null,
      "outputs": []
    },
    {
      "cell_type": "code",
      "source": [
        "#%% Conectar con google drive, donde se encuentran los datos HCP1200 requeridos\n",
        "from google.colab import drive\n",
        "drive.mount('/gdrive')\n",
        "%cd /gdrive"
      ],
      "metadata": {
        "id": "SR_4wzQeSFA3"
      },
      "execution_count": null,
      "outputs": []
    },
    {
      "cell_type": "code",
      "source": [
        "#%% Se importa el archivo con las funciones definidas para la tractografia y extraer la conectividad estructural\n",
        "\n",
        "execfile('/gdrive/Shareddrives/GENSyR /CNF (Complejidad y NeuroFísica)/Carpeta de trabajo/Tesis Juan y Diego /Resultados FUNCIONES Tesis/Construcción redes cerebrales/construcción_conectividad_estructural.py')"
      ],
      "metadata": {
        "id": "dqXHkSlxXvdZ"
      },
      "execution_count": null,
      "outputs": []
    },
    {
      "cell_type": "code",
      "source": [
        "#%% Montar librerías base para todo el proceso\n",
        "\n",
        "import os\n",
        "import sys\n",
        "import subprocess\n",
        "import numpy as np\n",
        "import nibabel as nib\n",
        "import matplotlib.pyplot as plt\n",
        "from os.path import expanduser, join\n",
        "\n",
        "\n",
        "#%% Importar parcelación que se usará para definir los nodos de la red y ruta para guardar la matriz.\n",
        "from dipy.io.image import load_nifti_data, load_nifti, save_nifti"
      ],
      "metadata": {
        "id": "dQhZPzcHSKTb"
      },
      "execution_count": null,
      "outputs": []
    },
    {
      "cell_type": "code",
      "source": [
        "#%% Leer y cargar las rutas de los datos del HCP\n",
        "home = expanduser('/gdrive/Shareddrives/GENSyR /CNF (Complejidad y NeuroFísica)/Carpeta de trabajo/Datos Proyecto Conectoma Humano (HCP)')"
      ],
      "metadata": {
        "id": "_3QYVreBSoBM"
      },
      "execution_count": null,
      "outputs": []
    },
    {
      "cell_type": "code",
      "source": [
        "fpardic = join(home, 'Parcelas', 'dict_pars.npy')\n",
        "arr_dict_pars = np.load(fpardic, allow_pickle=True)\n",
        "dict_pars = arr_dict_pars.item()"
      ],
      "metadata": {
        "id": "esko9mYmigbm"
      },
      "execution_count": null,
      "outputs": []
    },
    {
      "cell_type": "code",
      "source": [
        "dict_pars"
      ],
      "metadata": {
        "id": "DsY4CfXMumwu"
      },
      "execution_count": null,
      "outputs": []
    },
    {
      "cell_type": "code",
      "source": [
        "pars_keys = list(dict_pars.keys())\n",
        "index = pars_keys.index('AAL')\n",
        "par_key = [pars_keys[index]]"
      ],
      "metadata": {
        "id": "2-xxTcZiuVdW"
      },
      "execution_count": null,
      "outputs": []
    },
    {
      "cell_type": "code",
      "source": [
        "# Ruta donde se tienen las listas de sujetos, separadas por poblaciones para analizar\n",
        "fdatapoblaciones = '/gdrive/Shareddrives/GENSyR /CNF (Complejidad y NeuroFísica)/Carpeta de trabajo/Tesis Juan y Diego /Datos Poblaciones/Sujetos Tesis'\n",
        "\n",
        "# Se tienen los filtros de tareas 'WM_Task_Acc' o 'Dexterity_Unadj'\n",
        "tareas = ['Emotion', 'Social', 'WM']\n",
        "# Para las poblaciones de sujetos masculinas 'M' y femeninas 'F'\n",
        "sexos = ['F', 'M']\n",
        "# Puntuacion de la poblacion: alto '+' o bajo '-'\n",
        "puntuaciones = ['-', '+']"
      ],
      "metadata": {
        "id": "pilk_ytumWks"
      },
      "execution_count": null,
      "outputs": []
    },
    {
      "cell_type": "code",
      "source": [
        "for tarea in tareas:\n",
        "  for sexo in sexos:\n",
        "    for puntuacion in puntuaciones:\n",
        "\n",
        "      # Se define la carpeta donde estan los sujetos con la poblacion de interes\n",
        "      patient = tarea + '_' + sexo + puntuacion\n",
        "\n",
        "      # Se cargan las rutas para leer el tractograma\n",
        "      dhcp = join(fdatapoblaciones, patient)\n",
        "      dest = join(dhcp, 'Estructural')\n",
        "\n",
        "      # Se genera la ruta para leer el tractograma\n",
        "      nametracto = 'trac_det_EuDX_pft_' + patient + '.trk'\n",
        "      ftrackpft = join(dest, nametracto)\n",
        "\n",
        "      # Cargar el archivo trk en streamlines\n",
        "      streamsObjIN=nib.streamlines.load(ftrackpft)\n",
        "      streamlines = streamsObjIN.tractogram.streamlines\n",
        "\n",
        "      for parcelacion in par_key: # pars_keys\n",
        "\n",
        "        fparcelas = dict_pars[parcelacion]\n",
        "        par_data, par_affine= load_nifti(fparcelas)\n",
        "\n",
        "        # Se verifica si la carpeta de parcelas para cada sujeto existe\n",
        "        #dparcelas = join(dhcp, 'Parcelas')\n",
        "        #if not os.path.exists(dparcelas):\n",
        "        #  os.mkdir(dparcelas)\n",
        "\n",
        "        # Se verifica si la carpeta para guardar los datos de la matriz estructural para una parcela especifica existe\n",
        "        #dpar = join(dparcelas, parcelacion)\n",
        "        #if not os.path.exists(dpar):\n",
        "        #  os.mkdir(dpar)\n",
        "\n",
        "        # Se ejecuta la funcion para crear las matrices estructurales\n",
        "        conectividades_estructurales(patient, streamlines, '', par_data, par_affine, dhcp)"
      ],
      "metadata": {
        "id": "cQ_pMUxMX53n"
      },
      "execution_count": null,
      "outputs": []
    }
  ]
}