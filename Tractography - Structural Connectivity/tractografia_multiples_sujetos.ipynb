{
  "cells": [
    {
      "cell_type": "code",
      "execution_count": null,
      "metadata": {
        "id": "1E0jf5edo8GO"
      },
      "outputs": [],
      "source": [
        "#%% En el caso de Google Colaboratory, es necesario instalar las librerías necesarias para todos los análisis que se muestran adelante"
      ]
    },
    {
      "cell_type": "code",
      "execution_count": null,
      "metadata": {
        "id": "TLYClUFFoWLW"
      },
      "outputs": [],
      "source": [
        "pip install dipy"
      ]
    },
    {
      "cell_type": "code",
      "execution_count": null,
      "metadata": {
        "id": "qgfq8CQxot1u"
      },
      "outputs": [],
      "source": [
        "pip install nilearn"
      ]
    },
    {
      "cell_type": "code",
      "execution_count": null,
      "metadata": {
        "colab": {
          "base_uri": "https://localhost:8080/"
        },
        "id": "SR_4wzQeSFA3",
        "outputId": "40ed61d9-41d6-47d5-92e6-c416dd35c796"
      },
      "outputs": [
        {
          "output_type": "stream",
          "name": "stdout",
          "text": [
            "Mounted at /gdrive\n",
            "/gdrive\n"
          ]
        }
      ],
      "source": [
        "#%% Conectar con google drive, donde se encuentran los datos HCP1200 requeridos\n",
        "from google.colab import drive\n",
        "drive.mount('/gdrive')\n",
        "%cd /gdrive"
      ]
    },
    {
      "cell_type": "code",
      "execution_count": null,
      "metadata": {
        "id": "VtibIhs4xTe5"
      },
      "outputs": [],
      "source": [
        "#%% Se importa el archivo con las funciones definidas para la tractografia y extraer la conectividad estructural\n",
        "\n",
        "execfile('/gdrive/Shareddrives/GENSyR /CNF (Complejidad y NeuroFísica)/Carpeta de trabajo/Tesis Juan y Diego /Resultados FUNCIONES Tesis/Construcción redes cerebrales/construcción_conectividad_estructural.py')"
      ]
    },
    {
      "cell_type": "code",
      "execution_count": null,
      "metadata": {
        "id": "dQhZPzcHSKTb"
      },
      "outputs": [],
      "source": [
        "#%% Montar librerías base para todo el proceso\n",
        "\n",
        "import os\n",
        "import subprocess\n",
        "import numpy as np\n",
        "import nibabel as nib\n",
        "import matplotlib.pyplot as plt\n",
        "from os.path import expanduser, join\n",
        "from dipy.io.streamline import save_tractogram"
      ]
    },
    {
      "cell_type": "code",
      "execution_count": null,
      "metadata": {
        "id": "_3QYVreBSoBM"
      },
      "outputs": [],
      "source": [
        "def tractografia_multiples_sujetos(home, patient):\n",
        "\n",
        "  # Nombre de rutas necesarias para generar el tractograma\n",
        "  dhcp = join(home, patient)\n",
        "  dest = join(dhcp, 'Estructural')\n",
        "  fraw = join(dest, 'data.nii.gz')\n",
        "  fbval = join(dest, 'bvals')\n",
        "  fbvec = join(dest, 'bvecs')\n",
        "  fmask = join(dest, 'brainmask_fs.nii.gz')\n",
        "  ft1 = join(dest, 'T1w_acpc_dc_restore_brain.nii.gz')\n",
        "\n",
        "  # Nombres de la ruta donde se almacenara el tractograma \n",
        "  nametracto = 'trac_det_EuDX_pft_' + patient + '.trk'\n",
        "  ftrackpft = join(dest, nametracto)\n",
        "\n",
        "  # Se generan las streamlines y se almacenan los datos-mascaras resliced y el .trk del tractograma\n",
        "  pft_sft = tractograma_determinista_PFT(fraw, fbval, fbvec, fmask, ft1)\n",
        "  save_tractogram(pft_sft, ftrackpft)\n",
        "  del pft_sft"
      ]
    },
    {
      "cell_type": "code",
      "execution_count": null,
      "metadata": {
        "id": "ooS9XHAOMkC0"
      },
      "outputs": [],
      "source": [
        "# Ruta donde se tienen las listas de sujetos, separadas por poblaciones para extraer la tractografia\n",
        "fdatapoblaciones = '/gdrive/Shareddrives/GENSyR /CNF (Complejidad y NeuroFísica)/Carpeta de trabajo/Tesis Juan y Diego /Datos Poblaciones'\n",
        "\n",
        "# Se tienen los filtros de tareas 'WM_Task_Acc' o 'Dexterity_Unadj'\n",
        "tarea = 'WM_Task_Acc'\n",
        "# Para las poblaciones de sujetos masculinas 'M' y femeninas 'F'\n",
        "sexo = 'M'\n",
        "# Puntuacion de la poblacion: alto '+' o bajo '-'\n",
        "puntuacion = '-'\n",
        "\n",
        "# Se carga la lista de sujetos de la poblacion al vector sujetos\n",
        "name = tarea + '_' + puntuacion + '_' + sexo + '_sujetos.npy'\n",
        "fname = join(fdatapoblaciones, name)\n",
        "subjects_total = np.load(fname)"
      ]
    },
    {
      "cell_type": "code",
      "execution_count": null,
      "metadata": {
        "id": "bCujoZYj7PpD"
      },
      "outputs": [],
      "source": [
        "#%% Leer y cargar las rutas de los datos del HCP\n",
        "home = join(fdatapoblaciones, sexo + puntuacion + tarea)\n",
        "\n",
        "subjects1 = subjects_total[20:25]\n",
        "\n",
        "for patient in subjects1:\n",
        "  print('Tractografía del sujeto:', patient)\n",
        "  tractografia_multiples_sujetos(home, patient)\n",
        "  print('El tractograma del sujeto:', patient, 'está listo.')"
      ]
    }
  ],
  "metadata": {
    "colab": {
      "collapsed_sections": [],
      "provenance": []
    },
    "kernelspec": {
      "display_name": "Python 3",
      "name": "python3"
    },
    "language_info": {
      "name": "python"
    }
  },
  "nbformat": 4,
  "nbformat_minor": 0
}